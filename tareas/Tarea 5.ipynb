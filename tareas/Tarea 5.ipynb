{
 "cells": [
  {
   "cell_type": "markdown",
   "metadata": {},
   "source": [
    "## Ejercicio 1 \n",
    "Crea una función que reciba los tres coeficientes a, b y c para resolver una ecuación de segundo grado. Muestra la solución por pantalla y ayúdate de la librería Math para acceder a la función raíz cuadrada."
   ]
  },
  {
   "cell_type": "code",
   "execution_count": 4,
   "metadata": {},
   "outputs": [],
   "source": [
    "import numpy as np\n",
    "def solucion(a,b,c):\n",
    "    x1 = (-b + np.sqrt((b**2)-(4*a*c)))/(2*a)\n",
    "    x2 = (-b - np.sqrt((b**2)-(4*a*c)))/(2*a)\n",
    "    return(x1,x2)"
   ]
  },
  {
   "cell_type": "markdown",
   "metadata": {},
   "source": [
    "Por ejemplo tenemos: $$2x^2-4x+1=0$$"
   ]
  },
  {
   "cell_type": "code",
   "execution_count": 4,
   "metadata": {},
   "outputs": [
    {
     "data": {
      "text/plain": [
       "(1.7071067811865475, 0.2928932188134524)"
      ]
     },
     "execution_count": 4,
     "metadata": {},
     "output_type": "execute_result"
    }
   ],
   "source": [
    "solucion(2,-4,1)"
   ]
  },
  {
   "cell_type": "markdown",
   "metadata": {},
   "source": [
    "## Ejercicio 2 \n",
    "Crea una función que lea una frase de teclado y nos diga si es o no un palíndromo (frase que se lee igual de izquierda a derecha o al revés como por ejemplo La ruta nos aportó otro paso natural.)"
   ]
  },
  {
   "cell_type": "code",
   "execution_count": 49,
   "metadata": {},
   "outputs": [
    {
     "name": "stdout",
     "output_type": "stream",
     "text": [
      "Ingrese una frase: La ruta nos aporto otro paso natural\n",
      "Es un Palindromo\n"
     ]
    }
   ],
   "source": [
    "texto = str(input(\"Ingrese una frase: \"))\n",
    "texto = texto.replace(\" \", \"\").lower()\n",
    "inverso = texto[::-1]\n",
    "\n",
    "def esPalindromo(texto):\n",
    "    if texto == inverso:\n",
    "        return \"Es un Palindromo\"\n",
    "    else:\n",
    "        return \"No es un Palindromo\"\n",
    "\n",
    "esPalindromo(texto)"
   ]
  },
  {
   "cell_type": "markdown",
   "metadata": {},
   "source": [
    "## Ejercicio 3\n",
    "Crea un diccionario que tenga por claves los números del 1 al 10 y como valores sus raíces cuadradas"
   ]
  },
  {
   "cell_type": "code",
   "execution_count": 56,
   "metadata": {},
   "outputs": [
    {
     "name": "stdout",
     "output_type": "stream",
     "text": [
      "{1: 1, 2: 4, 3: 9, 4: 16, 5: 25, 6: 36, 7: 49, 8: 64, 9: 81, 10: 100}\n"
     ]
    }
   ],
   "source": [
    "cuadrado = {}\n",
    "for i in range(1,11):\n",
    "    cuadrado[i]=i**2\n",
    "\n",
    "print(cuadrado)"
   ]
  },
  {
   "cell_type": "markdown",
   "metadata": {},
   "source": [
    "## Ejercicio 4\n",
    "Crea un diccionario que tenga como claves las letras del alfabeto castellano y como valores los símbolos del código morse (los tienes todos en la Wikipedia)."
   ]
  },
  {
   "cell_type": "code",
   "execution_count": 46,
   "metadata": {},
   "outputs": [
    {
     "name": "stdout",
     "output_type": "stream",
     "text": [
      "{'A': '· —', 'B': '— · · ·', 'C': '— · — ·', 'D': '— · ·', 'E': '·', 'F': '· · — ·', 'G': '— — ·', 'H': '· · · ·', 'I': '· ·', 'J': '· — — —', 'K': '— · —', 'L': '· — · ·', 'M': '— —', 'N': '— ·', 'Ñ': '— — · — —', 'O': '— — —', 'P': '· — — ·', 'Q': '— — · —', 'R': '· — ·', 'S': '· · ·', 'T': '—', 'U': '· · —', 'V': '· · · —', 'W': '· — —', 'X': '— · · —', 'Y': '— · — —', 'Z': '— — · ·'}\n",
      "\n",
      "Por ejemplo el código Morse de la letra P es: · — — ·\n"
     ]
    }
   ],
   "source": [
    "alfabeto = \"ABCDEFGHIJKLMNÑOPQRSTUVWXYZ\"\n",
    "simbolos_morse = [\"· —\", \"— · · ·\", \"— · — ·\", \"— · ·\",\"·\",\"· · — ·\",\"— — ·\",\"· · · ·\",\"· ·\",\n",
    "                \"· — — —\",\"— · —\",\"· — · ·\",\"— —\",\"— ·\",\"— — · — —\",\"— — —\",\"· — — ·\",\n",
    "                \"— — · —\",\"· — ·\",\"· · ·\",\"—\",\"· · —\",\"· · · —\",\"· — —\",\"— · · —\",\"— · — —\",\n",
    "                \"— — · ·\"]\n",
    "codigo_morse = {}\n",
    "for indice, letra in enumerate(alfabeto):\n",
    "    codigo_morse[letra] = simbolos_morse[indice]\n",
    "\n",
    "print(str(codigo_morse)+'\\n')\n",
    "print(\"Por ejemplo el código Morse de la letra P es: \" + codigo_morse[\"P\"])"
   ]
  },
  {
   "cell_type": "markdown",
   "metadata": {},
   "source": [
    "A continuación crea un programa que lea una frase del teclado y te la convierta a Morse utilizando el diccionario anterior."
   ]
  },
  {
   "cell_type": "code",
   "execution_count": 47,
   "metadata": {},
   "outputs": [
    {
     "name": "stdout",
     "output_type": "stream",
     "text": [
      "Ingrese una frase: La ruta nos aporto otro paso natural\n",
      "['· — · ·', '· —', '· — ·', '· · —', '—', '· —', '— ·', '— — —', '· · ·', '· —', '· — — ·', '— — —', '· — ·', '—', '— — —', '— — —', '—', '· — ·', '— — —', '· — — ·', '· —', '· · ·', '— — —', '— ·', '· —', '—', '· · —', '· — ·', '· —', '· — · ·']\n"
     ]
    }
   ],
   "source": [
    "texto = str(input(\"Ingrese una frase: \"))\n",
    "texto = texto.upper().replace(\" \", \"\")\n",
    "morse = [] #lista para guardar los simbolos en codigo morse de la frase \n",
    "for i in texto:\n",
    "    morse.append(codigo_morse[i])\n",
    "    \n",
    "print(morse)"
   ]
  },
  {
   "cell_type": "markdown",
   "metadata": {},
   "source": [
    "## Ejercicio 5\n",
    "Crea una función que dados dos diccionarios nos diga que claves están presentes en ambos."
   ]
  },
  {
   "cell_type": "code",
   "execution_count": 48,
   "metadata": {},
   "outputs": [
    {
     "name": "stdout",
     "output_type": "stream",
     "text": [
      "['a', 'b', 'e', 'f']\n"
     ]
    }
   ],
   "source": [
    "a = {\"a\":1,\"b\":2,\"c\":3,\"d\":4,\"e\":5,\"f\":6,\"g\":7}\n",
    "b = {\"a\":2,\"b\":5,\"e\":4,\"f\":21}\n",
    "\n",
    "def clavesComunes(a,b): #a y b son diccionarios\n",
    "    claves_a = a.keys()\n",
    "    claves_b = b.keys()\n",
    "    comunes = [] #lista que almacena las claves que son comunes en los dos diccionarios\n",
    "    for i in claves_a:\n",
    "        if i in claves_b:\n",
    "            comunes.append(i)\n",
    "    return comunes\n",
    "\n",
    "print(clavesComunes(a,b))"
   ]
  },
  {
   "cell_type": "markdown",
   "metadata": {},
   "source": [
    "## Ejercicio 6\n",
    "Crea una función que dado un número N nos diga si es primo o no (tiene que ir dividiendo por todos los números x comprendidos entre 2 y el propio número N menos uno y ver si el cociente de N/x tiene resto entero o no)."
   ]
  },
  {
   "cell_type": "code",
   "execution_count": 44,
   "metadata": {},
   "outputs": [
    {
     "name": "stdout",
     "output_type": "stream",
     "text": [
      "Ingrese un número: 41\n",
      "Es Primo\n"
     ]
    }
   ],
   "source": [
    "n = int(input(\"Ingrese un número: \"))\n",
    "\n",
    "#funcion que devuelve un valor booleano, True si n es primo y False si no es primo\n",
    "def esPrimo(n):\n",
    "    b = False\n",
    "    for i in range (2,n):\n",
    "        if n%i == 0:\n",
    "            b = False\n",
    "            break\n",
    "        else: \n",
    "            b = True\n",
    "    return b\n",
    "\n",
    "if esPrimo(n) == True:\n",
    "    print(\"Es Primo\")\n",
    "elif esPrimo(n) == False: \n",
    "    print(\"No es Primo\")"
   ]
  },
  {
   "cell_type": "markdown",
   "metadata": {},
   "source": [
    "Sea $n$ un numero entero, encuentre los numeros primos entre $0$ y $n$"
   ]
  },
  {
   "cell_type": "code",
   "execution_count": 64,
   "metadata": {},
   "outputs": [
    {
     "name": "stdout",
     "output_type": "stream",
     "text": [
      "Ingrese un número: 50\n",
      "Los numeros primos entre 0 y 50 son: [3, 5, 7, 11, 13, 17, 19, 23, 29, 31, 37, 41, 43, 47]\n"
     ]
    }
   ],
   "source": [
    "n = int(input(\"Ingrese un número: \"))\n",
    "def nPrimos(n):\n",
    "    primos = []\n",
    "    for i in range(2,n+1):\n",
    "        if esPrimo(i) == True:\n",
    "            primos.append(i)\n",
    "    return primos\n",
    "\n",
    "print(\"Los numeros primos entre 0 y \" + str(n) + \" son: \" +str(nPrimos(n)))"
   ]
  },
  {
   "cell_type": "markdown",
   "metadata": {},
   "source": [
    "## Ejercicio 7\n",
    "Investiga la documentación de la clase string y crea un método que lea una frase del teclado y escriba la primera letra de cada palabra en Mayúscula."
   ]
  },
  {
   "cell_type": "code",
   "execution_count": 72,
   "metadata": {},
   "outputs": [
    {
     "name": "stdout",
     "output_type": "stream",
     "text": [
      "Ingrese una frase: Eso no lo se\n",
      "['E', 'N', 'L', 'S']\n"
     ]
    }
   ],
   "source": [
    "texto = str(input(\"Ingrese una frase: \"))\n",
    "lista_texto = texto.split()\n",
    "filtro = [] #lista que almacena las primeras letras de cada palabra en mayuscula\n",
    "for i in lista_texto:\n",
    "    filtro.append(i[0].upper())\n",
    "print(filtro)"
   ]
  },
  {
   "cell_type": "markdown",
   "metadata": {},
   "source": [
    "## Ejercicio 8\n",
    "Crea una función que calcule el máximo común divisor de dos números introducidos por el usuario por teclado."
   ]
  },
  {
   "cell_type": "code",
   "execution_count": 24,
   "metadata": {},
   "outputs": [
    {
     "name": "stdout",
     "output_type": "stream",
     "text": [
      "Ingrese dos numeros: \n",
      "30\n",
      "45\n",
      "El mcd de 30 y 45 es: 15.0\n"
     ]
    }
   ],
   "source": [
    "print(\"Ingrese dos numeros: \")\n",
    "n1 = int(input())\n",
    "n2 = int(input())\n",
    "\n",
    "#funcion para calcular los divisores de un numero\n",
    "def divisores(n):\n",
    "    div = []\n",
    "    for i in range(1,n+1):\n",
    "        if n%i==0:\n",
    "            div.append(n/i)\n",
    "    return div\n",
    "\n",
    "d1 = divisores(n1) #divisores de n1 \n",
    "d2 = divisores(n2) #divisores de n2\n",
    "dComunes = list(set(d1) & set(d2)) #Divisores comunes de n1 y n2\n",
    "mcd = np.max(dComunes) #calculo del maximo de los divisores comunes\n",
    "print(\"El mcd de \"+str(n1)+\" y \"+str(n2)+\" es: \"+str(mcd))"
   ]
  },
  {
   "cell_type": "markdown",
   "metadata": {},
   "source": [
    "## Ejercicio 9\n",
    "Investiga el Cifrado del César y crea una función que lo reproduzca en Python. Cada letra del mensaje original se desplaza tres posiciones en el alfabeto estándar. La A se convierte en la D, la B se convierte en la E, la C se convierte en la F... y cuando se acaba el alfabeto se le vuelve a dar la vuelta: la X se convierte en la A, la Y en la B y la X en la C. Los números no sufren ninguna modificación."
   ]
  },
  {
   "cell_type": "code",
   "execution_count": 9,
   "metadata": {
    "scrolled": true
   },
   "outputs": [
    {
     "name": "stdout",
     "output_type": "stream",
     "text": [
      "Ingrese una frase: La transformacion se puede representar alineando dos alfabetos\n",
      "La frase codificada es: ñd wudpvluurdflup vh sxhgh uhvuhvhpwdu gñlphgpgr grv dñidhhwrv\n"
     ]
    }
   ],
   "source": [
    "alfabeto = \"ABCDEFGHIJKLMNÑOPQRSTUVWXYZABC\".lower()\n",
    "alfabeto_cod = \"DEFGHIJKLMNÑOPQRSTUVWXYZABC\".lower()\n",
    "\n",
    "texto = str(input(\"Ingrese una frase: \")).lower()\n",
    "texto = texto.split()\n",
    "texto_cesar = [] #lista para guardar las palabras codificadas\n",
    "\n",
    "def codCesar(texto): \n",
    "    for i in texto:\n",
    "        indice = alfabeto.index(i) #devuelve el indice del elemento i \n",
    "        texto = texto.replace(i,alfabeto_cod[indice])\n",
    "    return texto\n",
    "\n",
    "for i, palabra in enumerate(texto):\n",
    "    texto_cesar.append(codCesar(palabra))\n",
    "\n",
    "texto_cesar = \" \".join(texto_cesar) #concatena las palabras de la lista texto_cesar\n",
    "print(\"La frase codificada es: \" + texto_cesar)"
   ]
  },
  {
   "cell_type": "markdown",
   "metadata": {},
   "source": [
    "## Ejercicio 10 \n",
    "Dado una lista de nombres de persona, escribe un algoritmo que los ordene de tres formas diferentes:\n",
    "\n",
    "* De forma alfabética\n",
    "* forma alfabética invertida\n",
    "* De nombre más corto al más largo.\n"
   ]
  },
  {
   "cell_type": "code",
   "execution_count": 43,
   "metadata": {},
   "outputs": [
    {
     "name": "stdout",
     "output_type": "stream",
     "text": [
      "Orden Alfabetico: ['Ana', 'Bianca', 'Carlos', 'Eduardo', 'Gabriela', 'Margarita', 'Miguel', 'Raul']\n",
      "Orden Alfabetico Inverso: ['Raul', 'Miguel', 'Margarita', 'Gabriela', 'Eduardo', 'Carlos', 'Bianca', 'Ana']\n",
      "Orden por el tamaño de cada palabra: ['Ana', 'Raul', 'Miguel', 'Carlos', 'Bianca', 'Eduardo', 'Gabriela', 'Margarita']\n"
     ]
    }
   ],
   "source": [
    "nombres = ['Ana', 'Miguel', 'Carlos', 'Bianca', 'Eduardo', 'Gabriela', 'Margarita',\"Raul\"]\n",
    "\n",
    "#primera forma\n",
    "nombres.sort()\n",
    "print(\"Orden Alfabetico: \" + str(nombres))\n",
    "#segunda forma\n",
    "nombres.sort(reverse=True)\n",
    "print(\"Orden Alfabetico Inverso: \" + str(nombres))\n",
    "#tercera forma\n",
    "nombres.sort(key=len)  \n",
    "print(\"Orden por el tamaño de cada palabra: \" + str(nombres))"
   ]
  }
 ],
 "metadata": {
  "kernelspec": {
   "display_name": "Python 3",
   "language": "python",
   "name": "python3"
  },
  "language_info": {
   "codemirror_mode": {
    "name": "ipython",
    "version": 3
   },
   "file_extension": ".py",
   "mimetype": "text/x-python",
   "name": "python",
   "nbconvert_exporter": "python",
   "pygments_lexer": "ipython3",
   "version": "3.7.3"
  }
 },
 "nbformat": 4,
 "nbformat_minor": 2
}
